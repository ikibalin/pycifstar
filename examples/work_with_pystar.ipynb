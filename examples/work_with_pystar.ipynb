{
 "cells": [
  {
   "cell_type": "markdown",
   "metadata": {},
   "source": [
    "# Library PyStar\n",
    "## Basic operations "
   ]
  },
  {
   "cell_type": "markdown",
   "metadata": {},
   "source": [
    "The reading of cif blocks: loop, data, global from file to objects."
   ]
  },
  {
   "cell_type": "code",
   "execution_count": 1,
   "metadata": {},
   "outputs": [],
   "source": [
    "import pystar\n",
    "f_name = \"full.rcif\"\n",
    "cif_global = pystar.to_global(f_name)\n",
    "cif_data = pystar.to_data(f_name)\n",
    "cif_loop = pystar.to_loop(f_name)"
   ]
  },
  {
   "cell_type": "markdown",
   "metadata": {},
   "source": [
    "The standart ```print()``` function is working with all defined objects"
   ]
  },
  {
   "cell_type": "code",
   "execution_count": 2,
   "metadata": {},
   "outputs": [
    {
     "name": "stdout",
     "output_type": "stream",
     "text": [
      "loop_ # object AtomSite - Fitable\n",
      "_atom_site_adp_type  \n",
      "_atom_site_b_iso_or_equiv  \n",
      "_atom_site_fract_x  \n",
      "_atom_site_fract_y  \n",
      "_atom_site_fract_z  \n",
      "_atom_site_label  \n",
      "_atom_site_occupancy  \n",
      "_atom_site_type_symbol  \n",
      "uani 0.0 0.125 0.125 0.125 Fe3A 1.0 Fe \n",
      "uani 0.0 0.5 0.5 0.5 Fe3B 1.0 Fe \n",
      "uiso 0.0 0.25521 0.25521 0.25521 O1 1.0 O \n"
     ]
    }
   ],
   "source": [
    "print(cif_loop)"
   ]
  },
  {
   "cell_type": "markdown",
   "metadata": {},
   "source": [
    "The direct access to items is realized by square brackets. The naming is non case-sensitive, which can inglude names of *global* block and *data* block.\n",
    "\n",
    "- Ex. 1: naming by a short name: ```cif_global[\"_cell_length_a\"]```  (output is one element when the name is unique)\n",
    "- Ex. 2: naming by a short name: ```cif_global[\"_cell_length\"]``` (output is a list of elements when the name is not unique)\n",
    "- Ex. 3: a *global* block's name can be a part of the name: ``` cif_global[\"filerhochi_cell_length_a\"]```\n",
    "- Ex. 4: a *data* block's name can be included in the name: ```cif_global[\"Fe3O4_rhochi_cell_length_a\"]```\n",
    "- Ex. 5: a *global* and *data* block's names can be included in the name: ```cif_loop[\"filerhochi_Fe3O4_rhochi_cell_length_a\"]```"
   ]
  },
  {
   "cell_type": "code",
   "execution_count": 3,
   "metadata": {},
   "outputs": [
    {
     "name": "stdout",
     "output_type": "stream",
     "text": [
      "global block's name:  filerhochi \n",
      "data block's  name:  Fe3O4 \n",
      "short name: _cell_angle\n"
     ]
    }
   ],
   "source": [
    "print(\"global block's name: \", cif_global.name, \"\\ndata block's  name: \", cif_global.datas[0].name, \"\\nshort name: _cell_angle\")"
   ]
  },
  {
   "cell_type": "code",
   "execution_count": 4,
   "metadata": {},
   "outputs": [
    {
     "name": "stdout",
     "output_type": "stream",
     "text": [
      "Ex. 1:  _cell_length_a 8.56212()  \n",
      "\n",
      "Ex. 2:  [_cell_length_a 8.56212() , _cell_length_b 8.56212 , _cell_length_c 8.56212 ] \n",
      "\n",
      "Ex. 3:  _cell_length_a 8.56212()  \n",
      "\n",
      "Ex. 4:  _cell_length_a 8.56212()  \n",
      "\n",
      "Ex. 5:  _cell_length_a 8.56212()  \n",
      "\n"
     ]
    }
   ],
   "source": [
    "print(\"Ex. 1: \", cif_global[\"CELL_length_a\"], \"\\n\")\n",
    "print(\"Ex. 2: \", cif_global[\"_cell_length\"], \"\\n\")\n",
    "print(\"Ex. 3: \", cif_global[\"filerhochi_cell_length_a\"], \"\\n\")\n",
    "print(\"Ex. 4: \", cif_global[\"Fe3O4_cell_length_a\"], \"\\n\")\n",
    "print(\"Ex. 5: \", cif_global[\"filerhochi_Fe3O4_cell_length_a\"], \"\\n\")"
   ]
  },
  {
   "cell_type": "markdown",
   "metadata": {},
   "source": [
    "The direct access to the whole table in a loop object is realized by attribute ```.table``` :"
   ]
  },
  {
   "cell_type": "code",
   "execution_count": 5,
   "metadata": {},
   "outputs": [
    {
     "name": "stdout",
     "output_type": "stream",
     "text": [
      "[['uani', '0.0', '0.125', '0.125', '0.125', 'Fe3A', '1.0', 'Fe'], ['uani', '0.0', '0.5', '0.5', '0.5', 'Fe3B', '1.0', 'Fe'], ['uiso', '0.0', '0.25521', '0.25521', '0.25521', 'O1', '1.0', 'O']]\n"
     ]
    }
   ],
   "source": [
    "print(cif_loop.table)"
   ]
  },
  {
   "cell_type": "markdown",
   "metadata": {},
   "source": [
    "It can be directly converted to a numpy array for the further analysis."
   ]
  },
  {
   "cell_type": "code",
   "execution_count": 6,
   "metadata": {},
   "outputs": [
    {
     "name": "stdout",
     "output_type": "stream",
     "text": [
      "loop_ \n",
      "_ttheta  \n",
      "_intbkgr  \n",
      "4.5 256.0 \n",
      "40.0 158.0 \n",
      "80.0 65.0 \n",
      "\n",
      "\n",
      "Numpy array:\n",
      " [[  4.5 256. ]\n",
      " [ 40.  158. ]\n",
      " [ 80.   65. ]]\n"
     ]
    }
   ],
   "source": [
    "f_name = \"full_1.bkg\"\n",
    "cif_loop = pystar.to_loop(f_name)\n",
    "print(cif_loop)\n",
    "\n",
    "import numpy\n",
    "np_table = numpy.array(cif_loop.table, dtype=float)\n",
    "print(\"\\n\\nNumpy array:\\n\", np_table)"
   ]
  },
  {
   "cell_type": "markdown",
   "metadata": {},
   "source": [
    "One parameter can be taken from the loop object: ```cif_loop[\"_ttheta\"]```."
   ]
  },
  {
   "cell_type": "code",
   "execution_count": 7,
   "metadata": {},
   "outputs": [
    {
     "name": "stdout",
     "output_type": "stream",
     "text": [
      "['4.5', '40.0', '80.0']\n"
     ]
    }
   ],
   "source": [
    "print(cif_loop[\"_ttheta\"])"
   ]
  },
  {
   "cell_type": "code",
   "execution_count": 14,
   "metadata": {},
   "outputs": [
    {
     "data": {
      "text/plain": [
       "'F'"
      ]
     },
     "execution_count": 14,
     "metadata": {},
     "output_type": "execute_result"
    }
   ],
   "source": [
    "str(cif_global[\"space_group_name_h-m_alt\"].value)[0]"
   ]
  },
  {
   "cell_type": "code",
   "execution_count": 10,
   "metadata": {},
   "outputs": [
    {
     "data": {
      "text/plain": [
       "_space_group_name_h-m_alt 'F d -3 m' "
      ]
     },
     "execution_count": 10,
     "metadata": {},
     "output_type": "execute_result"
    }
   ],
   "source": [
    "cif_global[\"space_group_name_h-m_alt\"]"
   ]
  },
  {
   "cell_type": "code",
   "execution_count": null,
   "metadata": {},
   "outputs": [],
   "source": []
  }
 ],
 "metadata": {
  "kernelspec": {
   "display_name": "Python 3",
   "language": "python",
   "name": "python3"
  },
  "language_info": {
   "codemirror_mode": {
    "name": "ipython",
    "version": 3
   },
   "file_extension": ".py",
   "mimetype": "text/x-python",
   "name": "python",
   "nbconvert_exporter": "python",
   "pygments_lexer": "ipython3",
   "version": "3.7.3"
  }
 },
 "nbformat": 4,
 "nbformat_minor": 2
}
